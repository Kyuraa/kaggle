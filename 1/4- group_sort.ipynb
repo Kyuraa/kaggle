{
 "cells": [
  {
   "cell_type": "code",
   "execution_count": null,
   "id": "ec29c5f1",
   "metadata": {},
   "outputs": [],
   "source": [
    "import pandas as pd\n",
    "reviews = pd.read_csv(\"datasets/winemag-data-130k-v2.csv\", index_col=0)\n",
    "pd.set_option('display.max_rows', 5)\n"
   ]
  }
 ],
 "metadata": {
  "language_info": {
   "name": "python"
  }
 },
 "nbformat": 4,
 "nbformat_minor": 5
}
